{
 "cells": [
  {
   "cell_type": "code",
   "execution_count": 25,
   "metadata": {},
   "outputs": [
    {
     "name": "stdout",
     "output_type": "stream",
     "text": [
      "{'id': 0, 'name': 'unknown'}\n",
      "{'id': 1, 'name': 'Action'}\n",
      "{'id': 2, 'name': 'Adventure'}\n",
      "{'id': 3, 'name': 'Animation'}\n",
      "{'id': 4, 'name': \"Children's\"}\n",
      "{'id': 5, 'name': 'Comedy'}\n",
      "{'id': 6, 'name': 'Crime'}\n",
      "{'id': 7, 'name': 'Documentary'}\n",
      "{'id': 8, 'name': 'Drama'}\n",
      "{'id': 9, 'name': 'Fantasy'}\n",
      "{'id': 10, 'name': 'Film-Noir'}\n",
      "{'id': 11, 'name': 'Horror'}\n",
      "{'id': 12, 'name': 'Musical'}\n",
      "{'id': 13, 'name': 'Mystery'}\n",
      "{'id': 14, 'name': 'Romance'}\n",
      "{'id': 15, 'name': 'Sci-Fi'}\n",
      "{'id': 16, 'name': 'Thriller'}\n",
      "{'id': 17, 'name': 'War'}\n",
      "{'id': 18, 'name': 'Western'}\n"
     ]
    }
   ],
   "source": [
    "import pandas as pd\n",
    "\n",
    "\n",
    "fileGenre = open('../data/u.genre', 'r')\n",
    "genre = {}\n",
    "\n",
    "count = 0\n",
    "\n",
    "while True:\n",
    "    count += 1\n",
    "    # Get next line from file\n",
    "\n",
    "    line = fileGenre.readline()\n",
    "\n",
    "    # if line is empty\n",
    "    # end of file is reached\n",
    "    if line.strip() == \"\":\n",
    "        break\n",
    "\n",
    "    #print(\"{}\".format(line.strip()))\n",
    "    data = line.strip().split('|')\n",
    "\n",
    "    genre['id'] = int(data[1])\n",
    "    genre['name'] = data[0]\n",
    "\n",
    "    print(genre)\n",
    "\n",
    "fileGenre.close()\n"
   ]
  }
 ],
 "metadata": {
  "kernelspec": {
   "display_name": "base",
   "language": "python",
   "name": "python3"
  },
  "language_info": {
   "codemirror_mode": {
    "name": "ipython",
    "version": 3
   },
   "file_extension": ".py",
   "mimetype": "text/x-python",
   "name": "python",
   "nbconvert_exporter": "python",
   "pygments_lexer": "ipython3",
   "version": "3.10.10"
  }
 },
 "nbformat": 4,
 "nbformat_minor": 2
}
