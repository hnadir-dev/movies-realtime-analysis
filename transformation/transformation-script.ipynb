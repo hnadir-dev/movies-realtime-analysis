{
 "cells": [
  {
   "cell_type": "code",
   "execution_count": 3,
   "metadata": {
    "ExecuteTime": {
     "end_time": "2023-11-27T14:16:06.949339700Z",
     "start_time": "2023-11-27T14:16:06.800721400Z"
    }
   },
   "outputs": [],
   "source": [
    "import pandas as pd\n",
    "\n",
    "def openFile(file_path, mode='r'):\n",
    "    try:\n",
    "        return open(file_path, mode)\n",
    "    except FileNotFoundError:\n",
    "        print(f\"File not found: {file_path}\")\n",
    "        raise\n",
    "\n",
    "fileGenre = openFile('../data/u.genre')\n",
    "fileItem = openFile('../data/u.item')\n",
    "fileUser = openFile('../data/u.user')\n",
    "fileData = openFile('../data/u.data')\n",
    "\n",
    "def getDataframeFromFile(filed):\n",
    "    data = []\n",
    "    #\n",
    "    while True:\n",
    "\n",
    "        line = filed.readline()\n",
    "\n",
    "        # if line is empty\n",
    "        if line.strip() == \"\":\n",
    "            break\n",
    "\n",
    "        rec = line.strip().split('|')\n",
    "        \n",
    "\n",
    "\n",
    "        item = {}\n",
    "\n",
    "        if len(rec) > 6:\n",
    "            item['movieId'] = rec[0]\n",
    "            item['name'] = rec[1]\n",
    "            item['release_date'] = rec[2]\n",
    "            item['url'] = rec[4]\n",
    "\n",
    "            #5 => 23\n",
    "            item['genre'] = [genre[idx]['name'] for  idx, g in enumerate(range(5,24)) if rec[g] == '1']\n",
    "\n",
    "        elif len(rec) == 2:\n",
    "            item['id'] = rec[1]\n",
    "            item['name'] = rec[0]\n",
    "            \n",
    "        elif len(rec) == 5:\n",
    "            item['userId'] = rec[0]\n",
    "            item['age'] = rec[1]\n",
    "            item['gender'] = rec[2]\n",
    "            item['function'] = rec[4]\n",
    "        else:\n",
    "            print(\"Invalid record format. Skipping.\")\n",
    "            return\n",
    "\n",
    "        data.append(item)\n",
    "    filed.close()\n",
    "    return data\n",
    "\n",
    "genre = getDataframeFromFile(fileGenre)\n",
    "items = getDataframeFromFile(fileItem)\n",
    "users = getDataframeFromFile(fileUser)\n",
    "\n",
    "\n",
    "df_movies = pd.DataFrame(items)\n",
    "df_users = pd.DataFrame(users)"
   ]
  },
  {
   "cell_type": "code",
   "execution_count": 3,
   "metadata": {},
   "outputs": [],
   "source": [
    "\n",
    "fileData = open('../data/u.data', 'r')\n",
    "def getDataframeFromFileWithSpaces(filed):\n",
    "    data = []\n",
    "    #\n",
    "    while True:\n",
    "\n",
    "        line = filed.readline()\n",
    "\n",
    "        # if line is empty\n",
    "        if line.strip() == \"\":\n",
    "            break\n",
    "\n",
    "        rec = line.strip().split('\\t')\n",
    "\n",
    "        item = {}\n",
    "        item['userId'] = rec[0]\n",
    "        item['movieId'] = rec[1]\n",
    "        item['rating'] = rec[2]\n",
    "        item['timestamp'] = rec[3]\n",
    "        data.append(item)\n",
    "    filed.close()\n",
    "    return data\n",
    "\n",
    "relationship = getDataframeFromFileWithSpaces(fileData)\n",
    "df_relations = pd.DataFrame(relationship)"
   ]
  },
  {
   "cell_type": "code",
   "execution_count": 4,
   "metadata": {},
   "outputs": [],
   "source": [
    "merged_df = pd.merge(df_movies, df_relations[['userId', 'movieId', 'rating','timestamp']], on='movieId', how='inner')"
   ]
  },
  {
   "cell_type": "code",
   "execution_count": 5,
   "metadata": {},
   "outputs": [
    {
     "data": {
      "text/html": [
       "<div>\n",
       "<style scoped>\n",
       "    .dataframe tbody tr th:only-of-type {\n",
       "        vertical-align: middle;\n",
       "    }\n",
       "\n",
       "    .dataframe tbody tr th {\n",
       "        vertical-align: top;\n",
       "    }\n",
       "\n",
       "    .dataframe thead th {\n",
       "        text-align: right;\n",
       "    }\n",
       "</style>\n",
       "<table border=\"1\" class=\"dataframe\">\n",
       "  <thead>\n",
       "    <tr style=\"text-align: right;\">\n",
       "      <th></th>\n",
       "      <th>movieId</th>\n",
       "      <th>name</th>\n",
       "      <th>release_date</th>\n",
       "      <th>url</th>\n",
       "      <th>genre</th>\n",
       "      <th>userId</th>\n",
       "      <th>rating</th>\n",
       "      <th>timestamp</th>\n",
       "    </tr>\n",
       "  </thead>\n",
       "  <tbody>\n",
       "    <tr>\n",
       "      <th>99999</th>\n",
       "      <td>1682</td>\n",
       "      <td>Scream of Stone (Schrei aus Stein) (1991)</td>\n",
       "      <td>08-Mar-1996</td>\n",
       "      <td>http://us.imdb.com/M/title-exact?Schrei%20aus%...</td>\n",
       "      <td>[Drama]</td>\n",
       "      <td>916</td>\n",
       "      <td>3</td>\n",
       "      <td>880845755</td>\n",
       "    </tr>\n",
       "  </tbody>\n",
       "</table>\n",
       "</div>"
      ],
      "text/plain": [
       "      movieId                                       name release_date   \n",
       "99999    1682  Scream of Stone (Schrei aus Stein) (1991)  08-Mar-1996  \\\n",
       "\n",
       "                                                     url    genre userId   \n",
       "99999  http://us.imdb.com/M/title-exact?Schrei%20aus%...  [Drama]    916  \\\n",
       "\n",
       "      rating  timestamp  \n",
       "99999      3  880845755  "
      ]
     },
     "execution_count": 5,
     "metadata": {},
     "output_type": "execute_result"
    }
   ],
   "source": [
    "merged_df[(merged_df['movieId'] == '1682') & (merged_df['userId'] == '916')]"
   ]
  },
  {
   "cell_type": "markdown",
   "metadata": {},
   "source": [
    "<hr>\n",
    "<p style='color:red;'> Note: The input data must be modeled in the following way :</p>\n",
    "<code>\n",
    "{\"userId\": \"365\",\n",
    "  \"movie\": \n",
    "    { \"movieId\": \"7526\",\n",
    "        \"title\": \"Lord of the Rings: The Fellowship of the Ring, The (2001)\",\n",
    "        \"genres\": [\"Adventure\", \"Fantasy\"] \n",
    "    },\n",
    "    \"rating\": \"5\",\n",
    "    \"timestamp\": \"45554125\" \n",
    "}\n",
    "</code>\n",
    "<p style='color:red;'>  Ouput:</p>\n",
    "<hr>"
   ]
  },
  {
   "cell_type": "code",
   "execution_count": 6,
   "metadata": {},
   "outputs": [],
   "source": [
    "movie_list = []\n",
    "for x in merged_df.itertuples():\n",
    "    items = {\"userId\": x.userId,\n",
    "        \"movie\": \n",
    "        { \"movieId\": x.movieId,\n",
    "            \"title\": x.name,\n",
    "            \"genres\": x.genre\n",
    "        },\n",
    "        \"rating\": x.rating,\n",
    "        \"timestamp\": x.timestamp\n",
    "    }\n",
    "    movie_list.append(items)\n",
    "df = pd.DataFrame(movie_list)"
   ]
  },
  {
   "cell_type": "code",
   "execution_count": 7,
   "metadata": {},
   "outputs": [],
   "source": [
    "df.to_json(orient='records',path_or_buf=\"../data/output.json\")"
   ]
  },
  {
   "cell_type": "markdown",
   "metadata": {},
   "source": [
    "<p style='color:red;'> Create A flask Api :</p>\n",
    "<code>\n",
    "flask --app app --debug run\n",
    "</code>"
   ]
  },
  {
   "cell_type": "code",
   "execution_count": 8,
   "metadata": {},
   "outputs": [
    {
     "name": "stdout",
     "output_type": "stream",
     "text": [
      "       userId                                              movie  rating   \n",
      "0         308  {'movieId': '1', 'title': 'Toy Story (1995)', ...       4  \\\n",
      "1         287  {'movieId': '1', 'title': 'Toy Story (1995)', ...       5   \n",
      "2         148  {'movieId': '1', 'title': 'Toy Story (1995)', ...       4   \n",
      "3         280  {'movieId': '1', 'title': 'Toy Story (1995)', ...       4   \n",
      "4          66  {'movieId': '1', 'title': 'Toy Story (1995)', ...       3   \n",
      "...       ...                                                ...     ...   \n",
      "99995     863  {'movieId': '1678', 'title': 'Mat' i syn (1997...       1   \n",
      "99996     863  {'movieId': '1679', 'title': 'B. Monkey (1998)...       3   \n",
      "99997     863  {'movieId': '1680', 'title': 'Sliding Doors (1...       2   \n",
      "99998     896  {'movieId': '1681', 'title': 'You So Crazy (19...       3   \n",
      "99999     916  {'movieId': '1682', 'title': 'Scream of Stone ...       3   \n",
      "\n",
      "                timestamp  \n",
      "0     1998-02-17 17:28:52  \n",
      "1     1997-09-27 04:21:28  \n",
      "2     1997-10-16 16:30:11  \n",
      "3     1998-04-04 14:33:46  \n",
      "4     1997-12-31 20:48:44  \n",
      "...                   ...  \n",
      "99995 1998-03-07 16:52:50  \n",
      "99996 1998-03-07 16:51:31  \n",
      "99997 1998-03-07 16:52:50  \n",
      "99998 1998-02-11 01:32:02  \n",
      "99999 1997-11-29 23:22:35  \n",
      "\n",
      "[100000 rows x 4 columns]\n"
     ]
    }
   ],
   "source": [
    "df = pd.read_json(orient='records',path_or_buf='../data/output.json')\n",
    "print(df)"
   ]
  }
 ],
 "metadata": {
  "kernelspec": {
   "display_name": "base",
   "language": "python",
   "name": "python3"
  },
  "language_info": {
   "codemirror_mode": {
    "name": "ipython",
    "version": 3
   },
   "file_extension": ".py",
   "mimetype": "text/x-python",
   "name": "python",
   "nbconvert_exporter": "python",
   "pygments_lexer": "ipython3",
   "version": "3.11.6"
  }
 },
 "nbformat": 4,
 "nbformat_minor": 2
}
